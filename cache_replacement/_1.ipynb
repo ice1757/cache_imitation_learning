{
 "cells": [
  {
   "cell_type": "code",
   "execution_count": 1,
   "metadata": {},
   "outputs": [
    {
     "name": "stdout",
     "output_type": "stream",
     "text": [
      "123\n"
     ]
    }
   ],
   "source": [
    "a={\"lru\":123}['lru']\n",
    "\n",
    "print(a)"
   ]
  },
  {
   "cell_type": "code",
   "execution_count": 6,
   "metadata": {},
   "outputs": [
    {
     "name": "stdout",
     "output_type": "stream",
     "text": [
      "14\n",
      "54239\n"
     ]
    }
   ],
   "source": [
    "import csv\n",
    "\n",
    "pcs = set()\n",
    "addrs = set()\n",
    "# 開啟 CSV 檔案\n",
    "with open('./policy_learning/cache/traces/bwaves_1609B_100_train.csv', newline='') as csvfile:\n",
    "\n",
    "    # 讀取 CSV 檔案內容\n",
    "    rows = csv.reader(csvfile)\n",
    "\n",
    "    # 以迴圈輸出每一列\n",
    "    for pc, addr in rows:\n",
    "        pcs.add(pc)\n",
    "        addrs.add(addr)\n",
    "\n",
    "print(len(pcs))\n",
    "print(len(addrs))\n"
   ]
  }
 ],
 "metadata": {
  "interpreter": {
   "hash": "86e4dcbda7492ab37c3615bf31213f67405aee8f7a54c4be14694d863708e37f"
  },
  "kernelspec": {
   "display_name": "Python 3.7.11 64-bit (conda)",
   "language": "python",
   "name": "python3"
  },
  "language_info": {
   "codemirror_mode": {
    "name": "ipython",
    "version": 3
   },
   "file_extension": ".py",
   "mimetype": "text/x-python",
   "name": "python",
   "nbconvert_exporter": "python",
   "pygments_lexer": "ipython3",
   "version": "3.7.11"
  },
  "orig_nbformat": 4
 },
 "nbformat": 4,
 "nbformat_minor": 2
}
