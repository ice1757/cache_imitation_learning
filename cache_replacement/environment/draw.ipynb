{
 "cells": [
  {
   "cell_type": "code",
   "execution_count": null,
   "metadata": {},
   "outputs": [],
   "source": [
    "!python main.py lru"
   ]
  },
  {
   "cell_type": "code",
   "execution_count": null,
   "metadata": {},
   "outputs": [],
   "source": [
    "import numpy as np\n",
    "import matplotlib.pyplot as plt\n",
    "from itertools import chain\n",
    "\n",
    "plt.figure(figsize=(10, 4))\n",
    "data_name = [\"astar_313B_10_train\", \"astar_313B_100_train\"]\n",
    "method = [\"belady\", \"lru\", \"s4lru\", \"belady_nearest_neighbors\", \"random\"]\n",
    "d1 = [34.94, 3.50, 0.2, 34.94, 8.28]\n",
    "d2 = [36.72, 3.73, 1.60, 36.72, 7.95]\n",
    "\n",
    "# label = ['G1', 'G2', 'G3', 'G4', 'G5']\n",
    "# first = [20, 34, 30, 35, 27]\n",
    "# second = [25, 32, 34, 20, 25]\n",
    "# third = [21, 31, 37, 21, 28]\n",
    "# fourth = [26, 31, 35, 27, 21]\n",
    "data = [d1,d2]\n",
    "\n",
    "\n",
    "def create_multi_bars(labels, datas, tick_step=1, group_gap=0.2, bar_gap=0):\n",
    "    '''\n",
    "    labels : x轴坐标标签序列\n",
    "    datas ：数据集，二维列表，要求列表每个元素的长度必须与labels的长度一致\n",
    "    tick_step ：默认x轴刻度步长为1，通过tick_step可调整x轴刻度步长。\n",
    "    group_gap : 柱子组与组之间的间隙，最好为正值，否则组与组之间重叠\n",
    "    bar_gap ：每组柱子之间的空隙，默认为0，每组柱子紧挨，正值每组柱子之间有间隙，负值每组柱子之间重叠\n",
    "    '''\n",
    "    # ticks为x轴刻度\n",
    "    ticks = np.arange(len(labels)) * tick_step\n",
    "    # group_num为数据的组数，即每组柱子的柱子个数\n",
    "    group_num = len(datas)\n",
    "    # group_width为每组柱子的总宽度，group_gap 为柱子组与组之间的间隙。\n",
    "    group_width = tick_step - group_gap\n",
    "    # bar_span为每组柱子之间在x轴上的距离，即柱子宽度和间隙的总和\n",
    "    bar_span = group_width / group_num\n",
    "    # bar_width为每个柱子的实际宽度\n",
    "    bar_width = bar_span - bar_gap\n",
    "    # baseline_x为每组柱子第一个柱子的基准x轴位置，随后的柱子依次递增bar_span即可\n",
    "    baseline_x = ticks - (group_width - bar_span) / 2\n",
    "    for index, y in enumerate(datas):\n",
    "        plt.bar(baseline_x + index*bar_span, y, bar_width)\n",
    "    plt.ylabel('Scores')\n",
    "    plt.title('multi datasets')\n",
    "    # x轴刻度标签位置与x轴刻度一致\n",
    "    plt.xticks(ticks, labels)\n",
    "    plt.show()\n",
    "    \n",
    "\n",
    "create_multi_bars(method, data, bar_gap=0.1)\n"
   ]
  },
  {
   "cell_type": "code",
   "execution_count": 1,
   "metadata": {},
   "outputs": [
    {
     "name": "stdout",
     "output_type": "stream",
     "text": [
      "Populating the interactive namespace from numpy and matplotlib\n"
     ]
    },
    {
     "ename": "FileNotFoundError",
     "evalue": "[Errno 2] No such file or directory: '1.txt'",
     "output_type": "error",
     "traceback": [
      "\u001b[1;31m---------------------------------------------------------------------------\u001b[0m",
      "\u001b[1;31mFileNotFoundError\u001b[0m                         Traceback (most recent call last)",
      "\u001b[1;32m<ipython-input-1-ecbd05618f24>\u001b[0m in \u001b[0;36m<module>\u001b[1;34m\u001b[0m\n\u001b[0;32m      3\u001b[0m \u001b[0mget_ipython\u001b[0m\u001b[1;33m(\u001b[0m\u001b[1;33m)\u001b[0m\u001b[1;33m.\u001b[0m\u001b[0mrun_line_magic\u001b[0m\u001b[1;33m(\u001b[0m\u001b[1;34m'pylab'\u001b[0m\u001b[1;33m,\u001b[0m \u001b[1;34m'inline'\u001b[0m\u001b[1;33m)\u001b[0m\u001b[1;33m\u001b[0m\u001b[1;33m\u001b[0m\u001b[0m\n\u001b[0;32m      4\u001b[0m \u001b[1;33m\u001b[0m\u001b[0m\n\u001b[1;32m----> 5\u001b[1;33m \u001b[1;32mwith\u001b[0m \u001b[0mopen\u001b[0m\u001b[1;33m(\u001b[0m\u001b[1;34m'1.txt'\u001b[0m\u001b[1;33m,\u001b[0m \u001b[1;34m'r'\u001b[0m\u001b[1;33m)\u001b[0m \u001b[1;32mas\u001b[0m \u001b[0mf\u001b[0m\u001b[1;33m:\u001b[0m\u001b[1;33m\u001b[0m\u001b[1;33m\u001b[0m\u001b[0m\n\u001b[0m\u001b[0;32m      6\u001b[0m     \u001b[0mdata1\u001b[0m \u001b[1;33m=\u001b[0m \u001b[0mf\u001b[0m\u001b[1;33m.\u001b[0m\u001b[0mread\u001b[0m\u001b[1;33m(\u001b[0m\u001b[1;33m)\u001b[0m\u001b[1;33m.\u001b[0m\u001b[0msplitlines\u001b[0m\u001b[1;33m(\u001b[0m\u001b[1;33m)\u001b[0m\u001b[1;33m\u001b[0m\u001b[1;33m\u001b[0m\u001b[0m\n\u001b[0;32m      7\u001b[0m     \u001b[1;31m# print(data1)\u001b[0m\u001b[1;33m\u001b[0m\u001b[1;33m\u001b[0m\u001b[1;33m\u001b[0m\u001b[0m\n",
      "\u001b[1;31mFileNotFoundError\u001b[0m: [Errno 2] No such file or directory: '1.txt'"
     ]
    }
   ],
   "source": [
    "import matplotlib.pyplot as plt\n",
    "import pandas as pd\n",
    "%pylab inline\n",
    "\n",
    "with open('1.txt', 'r') as f:\n",
    "    data1 = f.read().splitlines()\n",
    "    # print(data1)\n",
    "data1 = [float(i)*100 for i in data1]\n",
    "# print(data1)\n",
    "\n",
    "with open('2.txt', 'r') as f:\n",
    "    data1_bwave = f.read().splitlines()\n",
    "data1_bwave = [float(i) for i in data1_bwave]\n",
    "\n",
    "## bwaves_1609B_500_train\n",
    "data_name = [\"astar_313B_100_train\", \"bzip_281_100_train\"]\n",
    "method = [\"belady\", \"lru\", \"s4lru\", \"belady_nearest_neighbors\", \"random\"]\n",
    "d1 = [34.94, 3.50, 0.2, 34.94, 8.28]\n",
    "# d1 = [] ## bzip_281_500_train\n",
    "d2 = [36.72, 3.73, 1.60, 36.72, 7.95]\n",
    "\n",
    "colors = ['pink', 'orange', 'green', 'blue', 'red']\n",
    "df = pd.DataFrame([d2, data1], index=data_name, columns=method)\n",
    "ax = df.plot(kind='bar', color=colors, rot=0, figsize=(10, 6), ylabel = \"Hit Ratio(%)\")\n",
    "for p in ax.patches:\n",
    "    ax.annotate(str(p.get_height()), (p.get_x() * 1.005, p.get_height() * 1.01))\n",
    "# plt.savefig('1.png', facecolor=(1, 1, 1, 1))\n"
   ]
  },
  {
   "cell_type": "code",
   "execution_count": 43,
   "metadata": {},
   "outputs": [
    {
     "name": "stdout",
     "output_type": "stream",
     "text": [
      "Populating the interactive namespace from numpy and matplotlib\n"
     ]
    },
    {
     "name": "stderr",
     "output_type": "stream",
     "text": [
      "D:\\conda_env\\gooim\\lib\\site-packages\\IPython\\core\\magics\\pylab.py:160: UserWarning: pylab import has clobbered these variables: ['f']\n",
      "`%matplotlib` prevents importing * from pylab and numpy\n",
      "  \"\\n`%matplotlib` prevents importing * from pylab and numpy\"\n"
     ]
    },
    {
     "data": {
      "image/png": "[encoded data removed]",
      "text/plain": [
       "<Figure size 720x432 with 1 Axes>"
      ]
     },
     "metadata": {
      "needs_background": "light"
     },
     "output_type": "display_data"
    }
   ],
   "source": [
    "import matplotlib.pyplot as plt\n",
    "import pandas as pd\n",
    "%pylab inline\n",
    "\n",
    "with open('1.txt', 'r') as f:\n",
    "    data1 = f.read().splitlines()\n",
    "    # print(data1)\n",
    "data1 = [float(i)*100 for i in data1]\n",
    "# print(data1)\n",
    "\n",
    "with open('2.txt', 'r') as f:\n",
    "    data1_bwave = f.read().splitlines()\n",
    "data1_bwave = [float(i)*100 for i in data1_bwave]\n",
    "\n",
    "## bwaves_1609B_500_train\n",
    "data_name = [\"bwaves_1609B_500_train\"]\n",
    "method = [\"belady\", \"lru\", \"s4lru\", \"belady_nearest_neighbors\", \"random\"]\n",
    "d1 = [34.94, 3.50, 0.2, 34.94, 8.28]\n",
    "# d1 = [] ## bzip_281_500_train\n",
    "d2 = [36.72, 3.73, 1.60, 36.72, 7.95]\n",
    "\n",
    "colors = ['pink', 'orange', 'green', 'blue', 'red']\n",
    "df = pd.DataFrame([data1_bwave], index=data_name, columns=method)\n",
    "ax = df.plot(kind='bar', color=colors, rot=0, figsize=(10, 6), ylabel = \"Hit Ratio(%)\")\n",
    "for p in ax.patches:\n",
    "    ax.annotate(str(p.get_height()), (p.get_x() * 1.005, p.get_height() * 1.01))\n",
    "plt.savefig('bwaves_1609B_500_train_(hit rate).png', facecolor=(1, 1, 1, 1))\n"
   ]
  },
  {
   "cell_type": "code",
   "execution_count": 28,
   "metadata": {},
   "outputs": [
    {
     "name": "stdout",
     "output_type": "stream",
     "text": [
      "Populating the interactive namespace from numpy and matplotlib\n",
      "[78.0, 55.0, 59.0, 78.0, 54.0] [59.0, 31.0, 36.0, 59.0, 30.0]\n"
     ]
    },
    {
     "data": {
      "image/png": "[encoded data removed]",
      "text/plain": [
       "<Figure size 720x432 with 1 Axes>"
      ]
     },
     "metadata": {
      "needs_background": "light"
     },
     "output_type": "display_data"
    }
   ],
   "source": [
    "import matplotlib.pyplot as plt\n",
    "import pandas as pd\n",
    "%pylab inline\n",
    "\n",
    "with open('3.txt', 'r') as f:\n",
    "    data1_16384 = f.read().splitlines()\n",
    "    # print(data1)\n",
    "data1_16384 = [float(i)*100 for i in data1_16384]\n",
    "# print(data1)\n",
    "\n",
    "with open('2.txt', 'r') as f:\n",
    "    data1_8192 = f.read().splitlines()\n",
    "data1_8192 = [round(float(i)*100, 1) for i in data1_8192]\n",
    "\n",
    "## bwaves_1609B_500_train\n",
    "data_name = [\"zipf with 8192 types of address\", \"zipf with 16384 types of address\"]\n",
    "method = [\"belady\", \"lru\", \"s4lru\", \"belady_nearest_neighbors\", \"random\"]\n",
    "d1 = [34.94, 3.50, 0.2, 34.94, 8.28]\n",
    "# d1 = [] ## bzip_281_500_train\n",
    "d2 = [36.72, 3.73, 1.60, 36.72, 7.95]\n",
    "print(data1_8192, data1_16384)\n",
    "colors = ['pink', 'orange', 'green', 'blue', 'red']\n",
    "df = pd.DataFrame([data1_8192, data1_16384], index=data_name, columns=method)\n",
    "ax = df.plot(kind='bar', color=colors, rot=0, figsize=(10, 6), ylabel = \"Hit Ratio(%)\")\n",
    "for p in ax.patches:\n",
    "    ax.annotate(str(p.get_height()), (p.get_x() * 1.005, p.get_height() * 1.01))\n",
    "plt.savefig('zipf8192 vs 16384(hit rate).png', facecolor=(1, 1, 1, 1))\n"
   ]
  }
 ],
 "metadata": {
  "kernelspec": {
   "display_name": "Python 3.8.10 ('py38')",
   "language": "python",
   "name": "python3"
  },
  "language_info": {
   "codemirror_mode": {
    "name": "ipython",
    "version": 3
   },
   "file_extension": ".py",
   "mimetype": "text/x-python",
   "name": "python",
   "nbconvert_exporter": "python",
   "pygments_lexer": "ipython3",
   "version": "3.8.10"
  },
  "orig_nbformat": 4,
  "vscode": {
   "interpreter": {
    "hash": "588ac8bcb5724ba040aa60c8084195f4d5c6e5d53aa95b6cf09b599d5e574efe"
   }
  }
 },
 "nbformat": 4,
 "nbformat_minor": 2
}
